{
  "cells": [
    {
      "cell_type": "markdown",
      "metadata": {
        "id": "punL79CN7Ox6"
      },
      "source": [
        "##### Copyright 2020 The TensorFlow Authors."
      ]
    },
    {
      "cell_type": "code",
      "execution_count": 1,
      "metadata": {
        "cellView": "form",
        "id": "_ckMIh7O7s6D"
      },
      "outputs": [],
      "source": [
        "#@title Licensed under the Apache License, Version 2.0 (the \"License\");\n",
        "# you may not use this file except in compliance with the License.\n",
        "# You may obtain a copy of the License at\n",
        "#\n",
        "# https://www.apache.org/licenses/LICENSE-2.0\n",
        "#\n",
        "# Unless required by applicable law or agreed to in writing, software\n",
        "# distributed under the License is distributed on an \"AS IS\" BASIS,\n",
        "# WITHOUT WARRANTIES OR CONDITIONS OF ANY KIND, either express or implied.\n",
        "# See the License for the specific language governing permissions and\n",
        "# limitations under the License."
      ]
    },
    {
      "cell_type": "markdown",
      "metadata": {
        "id": "Ph5eir3Pf-3z"
      },
      "source": [
        "# Optimizing the Text Generation Model"
      ]
    },
    {
      "cell_type": "markdown",
      "metadata": {
        "id": "S5Uhzt6vVIB2"
      },
      "source": [
        "<table class=\"tfo-notebook-buttons\" align=\"left\">\n",
        "  <td>\n",
        "    <a target=\"_blank\" href=\"https://colab.research.google.com/github/tensorflow/examples/blob/master/courses/udacity_intro_to_tensorflow_for_deep_learning/l10c04_nlp_optimizing_the_text_generation_model.ipynb\"><img src=\"https://www.tensorflow.org/images/colab_logo_32px.png\" />Run in Google Colab</a>\n",
        "  </td>\n",
        "  <td>\n",
        "    <a target=\"_blank\" href=\"https://github.com/tensorflow/examples/blob/master/courses/udacity_intro_to_tensorflow_for_deep_learning/l10c04_nlp_optimizing_the_text_generation_model.ipynb\"><img src=\"https://www.tensorflow.org/images/GitHub-Mark-32px.png\" />View source on GitHub</a>\n",
        "  </td>\n",
        "</table>"
      ]
    },
    {
      "cell_type": "markdown",
      "metadata": {
        "id": "dCxhW3mtLmfb"
      },
      "source": [
        "You've already done some amazing work with generating new songs, but so far we've seen some issues with repetition and a fair amount of incoherence. By using more data and further tweaking the model, you'll be able to get improved results. We'll once again use the [Kaggle Song Lyrics Dataset](https://www.kaggle.com/mousehead/songlyrics) here."
      ]
    },
    {
      "cell_type": "markdown",
      "metadata": {
        "id": "4aHK2CYygXom"
      },
      "source": [
        "## Import TensorFlow and related functions"
      ]
    },
    {
      "cell_type": "code",
      "execution_count": 2,
      "metadata": {
        "id": "2LmLTREBf5ng"
      },
      "outputs": [],
      "source": [
        "import tensorflow as tf\n",
        "\n",
        "from tensorflow.keras.preprocessing.text import Tokenizer\n",
        "from tensorflow.keras.preprocessing.sequence import pad_sequences\n",
        "\n",
        "# Other imports for processing data\n",
        "import string\n",
        "import numpy as np\n",
        "import pandas as pd"
      ]
    },
    {
      "cell_type": "markdown",
      "metadata": {
        "id": "GmLTO_dpgge9"
      },
      "source": [
        "## Get the Dataset\n",
        "\n",
        "As noted above, we'll utilize the [Song Lyrics dataset](https://www.kaggle.com/mousehead/songlyrics) on Kaggle again."
      ]
    },
    {
      "cell_type": "code",
      "execution_count": 3,
      "metadata": {
        "id": "4Bf5FVHfganK",
        "outputId": "8bb3eb29-136e-4303-9861-e4dd2559c4a1",
        "colab": {
          "base_uri": "https://localhost:8080/"
        }
      },
      "outputs": [
        {
          "output_type": "stream",
          "name": "stdout",
          "text": [
            "--2022-06-08 01:20:57--  https://drive.google.com/uc?id=1LiJFZd41ofrWoBtW-pMYsfz1w8Ny0Bj8\n",
            "Resolving drive.google.com (drive.google.com)... 74.125.126.100, 74.125.126.138, 74.125.126.102, ...\n",
            "Connecting to drive.google.com (drive.google.com)|74.125.126.100|:443... connected.\n",
            "HTTP request sent, awaiting response... 303 See Other\n",
            "Location: https://doc-04-ak-docs.googleusercontent.com/docs/securesc/ha0ro937gcuc7l7deffksulhg5h7mbp1/te77r3ei8j53tvbbjju18lblrdnils21/1654651200000/11118900490791463723/*/1LiJFZd41ofrWoBtW-pMYsfz1w8Ny0Bj8 [following]\n",
            "Warning: wildcards not supported in HTTP.\n",
            "--2022-06-08 01:21:00--  https://doc-04-ak-docs.googleusercontent.com/docs/securesc/ha0ro937gcuc7l7deffksulhg5h7mbp1/te77r3ei8j53tvbbjju18lblrdnils21/1654651200000/11118900490791463723/*/1LiJFZd41ofrWoBtW-pMYsfz1w8Ny0Bj8\n",
            "Resolving doc-04-ak-docs.googleusercontent.com (doc-04-ak-docs.googleusercontent.com)... 142.250.148.132, 2607:f8b0:4001:c54::84\n",
            "Connecting to doc-04-ak-docs.googleusercontent.com (doc-04-ak-docs.googleusercontent.com)|142.250.148.132|:443... connected.\n",
            "HTTP request sent, awaiting response... 200 OK\n",
            "Length: 72436445 (69M) [text/csv]\n",
            "Saving to: ‘/tmp/songdata.csv’\n",
            "\n",
            "/tmp/songdata.csv   100%[===================>]  69.08M   189MB/s    in 0.4s    \n",
            "\n",
            "2022-06-08 01:21:00 (189 MB/s) - ‘/tmp/songdata.csv’ saved [72436445/72436445]\n",
            "\n"
          ]
        }
      ],
      "source": [
        "!wget --no-check-certificate \\\n",
        "    https://drive.google.com/uc?id=1LiJFZd41ofrWoBtW-pMYsfz1w8Ny0Bj8 \\\n",
        "    -O /tmp/songdata.csv"
      ]
    },
    {
      "cell_type": "markdown",
      "metadata": {
        "id": "Jz9x-7dWihxx"
      },
      "source": [
        "## 250 Songs\n",
        "\n",
        "Now we've seen a model trained on just a small sample of songs, and how this often leads to repetition as you get further along in trying to generate new text. Let's switch to using the 250 songs instead, and see if our output improves. This will actually be nearly 10K lines of lyrics, which should be sufficient.\n",
        "\n",
        "Note that we won't use the full dataset here as it will take up quite a bit of RAM and processing time, but you're welcome to try doing so on your own later. If interested, you'll likely want to use only some of the more common words for the Tokenizer, which will help shrink processing time and memory needed (or else you'd have an output array hundreds of thousands of words long)."
      ]
    },
    {
      "cell_type": "markdown",
      "metadata": {
        "id": "nWbMN_19jfRT"
      },
      "source": [
        "### Preprocessing"
      ]
    },
    {
      "cell_type": "code",
      "execution_count": 4,
      "metadata": {
        "id": "LRmPPJegovBe"
      },
      "outputs": [],
      "source": [
        "def tokenize_corpus(corpus, num_words=-1):\n",
        "  # Fit a Tokenizer on the corpus\n",
        "  if num_words > -1:\n",
        "    tokenizer = Tokenizer(num_words=num_words)\n",
        "  else:\n",
        "    tokenizer = Tokenizer()\n",
        "  tokenizer.fit_on_texts(corpus)\n",
        "  return tokenizer\n",
        "\n",
        "def create_lyrics_corpus(dataset, field):\n",
        "  # Remove all other punctuation\n",
        "  dataset[field] = dataset[field].str.replace('[{}]'.format(string.punctuation), '')\n",
        "  # Make it lowercase\n",
        "  dataset[field] = dataset[field].str.lower()\n",
        "  # Make it one long string to split by line\n",
        "  lyrics = dataset[field].str.cat()\n",
        "  corpus = lyrics.split('\\n')\n",
        "  # Remove any trailing whitespace\n",
        "  for l in range(len(corpus)):\n",
        "    corpus[l] = corpus[l].rstrip()\n",
        "  # Remove any empty lines\n",
        "  corpus = [l for l in corpus if l != '']\n",
        "\n",
        "  return corpus"
      ]
    },
    {
      "cell_type": "code",
      "execution_count": 5,
      "metadata": {
        "id": "kIGedF3XjHj4",
        "outputId": "29968191-8ef7-4627-c305-f49080e3e7f1",
        "colab": {
          "base_uri": "https://localhost:8080/"
        }
      },
      "outputs": [
        {
          "output_type": "stream",
          "name": "stderr",
          "text": [
            "/usr/local/lib/python3.7/dist-packages/ipykernel_launcher.py:12: FutureWarning: The default value of regex will change from True to False in a future version.\n",
            "  if sys.path[0] == '':\n"
          ]
        },
        {
          "output_type": "stream",
          "name": "stdout",
          "text": [
            "2000\n"
          ]
        }
      ],
      "source": [
        "def tokenize_corpus(corpus, num_words=-1):\n",
        "  # Fit a Tokenizer on the corpus\n",
        "  if num_words > -1:\n",
        "    tokenizer = Tokenizer(num_words=num_words)\n",
        "  else:\n",
        "    tokenizer = Tokenizer()\n",
        "  tokenizer.fit_on_texts(corpus)\n",
        "  return tokenizer\n",
        "\n",
        "# Read the dataset from csv - this time with 250 songs\n",
        "dataset = pd.read_csv('/tmp/songdata.csv', dtype=str)[:250]\n",
        "# Create the corpus using the 'text' column containing lyrics\n",
        "corpus = create_lyrics_corpus(dataset, 'text')\n",
        "# Tokenize the corpus\n",
        "tokenizer = tokenize_corpus(corpus, num_words=2000)\n",
        "total_words = tokenizer.num_words\n",
        "\n",
        "# There should be a lot more words now\n",
        "print(total_words)"
      ]
    },
    {
      "cell_type": "markdown",
      "metadata": {
        "id": "quoDmw_FkNBA"
      },
      "source": [
        "### Create Sequences and Labels"
      ]
    },
    {
      "cell_type": "code",
      "execution_count": 6,
      "metadata": {
        "id": "kkLAf3HmkPSo"
      },
      "outputs": [],
      "source": [
        "sequences = []\n",
        "for line in corpus:\n",
        "\ttoken_list = tokenizer.texts_to_sequences([line])[0]\n",
        "\tfor i in range(1, len(token_list)):\n",
        "\t\tn_gram_sequence = token_list[:i+1]\n",
        "\t\tsequences.append(n_gram_sequence)\n",
        "\n",
        "# Pad sequences for equal input length \n",
        "max_sequence_len = max([len(seq) for seq in sequences])\n",
        "sequences = np.array(pad_sequences(sequences, maxlen=max_sequence_len, padding='pre'))\n",
        "\n",
        "# Split sequences between the \"input\" sequence and \"output\" predicted word\n",
        "input_sequences, labels = sequences[:,:-1], sequences[:,-1]\n",
        "# One-hot encode the labels\n",
        "one_hot_labels = tf.keras.utils.to_categorical(labels, num_classes=total_words)"
      ]
    },
    {
      "cell_type": "markdown",
      "metadata": {
        "id": "cECbqT-blMk-"
      },
      "source": [
        "### Train a (Better) Text Generation Model\n",
        "\n",
        "With more data, we'll cut off after 100 epochs to avoid keeping you here all day. You'll also want to change your runtime type to GPU if you haven't already (you'll need to re-run the above cells if you change runtimes)."
      ]
    },
    {
      "cell_type": "code",
      "execution_count": 7,
      "metadata": {
        "id": "7nHOp6uWlP_P",
        "outputId": "4fcc2ef0-dec9-421c-a651-92ebba7ac18d",
        "colab": {
          "base_uri": "https://localhost:8080/"
        }
      },
      "outputs": [
        {
          "output_type": "stream",
          "name": "stdout",
          "text": [
            "Epoch 1/100\n",
            "1480/1480 [==============================] - 21s 7ms/step - loss: 5.9826 - accuracy: 0.0462\n",
            "Epoch 2/100\n",
            "1480/1480 [==============================] - 11s 7ms/step - loss: 5.6866 - accuracy: 0.0511\n",
            "Epoch 3/100\n",
            "1480/1480 [==============================] - 11s 8ms/step - loss: 5.5149 - accuracy: 0.0624\n",
            "Epoch 4/100\n",
            "1480/1480 [==============================] - 17s 11ms/step - loss: 5.3273 - accuracy: 0.0931\n",
            "Epoch 5/100\n",
            "1480/1480 [==============================] - 12s 8ms/step - loss: 5.1607 - accuracy: 0.1155\n",
            "Epoch 6/100\n",
            "1480/1480 [==============================] - 11s 8ms/step - loss: 5.0081 - accuracy: 0.1295\n",
            "Epoch 7/100\n",
            "1480/1480 [==============================] - 11s 7ms/step - loss: 4.8283 - accuracy: 0.1407\n",
            "Epoch 8/100\n",
            "1480/1480 [==============================] - 11s 7ms/step - loss: 4.6636 - accuracy: 0.1570\n",
            "Epoch 9/100\n",
            "1480/1480 [==============================] - 11s 7ms/step - loss: 4.5302 - accuracy: 0.1714\n",
            "Epoch 10/100\n",
            "1480/1480 [==============================] - 11s 8ms/step - loss: 4.4104 - accuracy: 0.1848\n",
            "Epoch 11/100\n",
            "1480/1480 [==============================] - 11s 8ms/step - loss: 4.3038 - accuracy: 0.1977\n",
            "Epoch 12/100\n",
            "1480/1480 [==============================] - 11s 8ms/step - loss: 4.2068 - accuracy: 0.2090\n",
            "Epoch 13/100\n",
            "1480/1480 [==============================] - 11s 7ms/step - loss: 4.1235 - accuracy: 0.2199\n",
            "Epoch 14/100\n",
            "1480/1480 [==============================] - 11s 7ms/step - loss: 4.0401 - accuracy: 0.2316\n",
            "Epoch 15/100\n",
            "1480/1480 [==============================] - 11s 7ms/step - loss: 3.9634 - accuracy: 0.2411\n",
            "Epoch 16/100\n",
            "1480/1480 [==============================] - 11s 7ms/step - loss: 3.8924 - accuracy: 0.2503\n",
            "Epoch 17/100\n",
            "1480/1480 [==============================] - 11s 7ms/step - loss: 3.8231 - accuracy: 0.2604\n",
            "Epoch 18/100\n",
            "1480/1480 [==============================] - 11s 7ms/step - loss: 3.7621 - accuracy: 0.2713\n",
            "Epoch 19/100\n",
            "1480/1480 [==============================] - 11s 7ms/step - loss: 3.7053 - accuracy: 0.2769\n",
            "Epoch 20/100\n",
            "1480/1480 [==============================] - 11s 8ms/step - loss: 3.6490 - accuracy: 0.2859\n",
            "Epoch 21/100\n",
            "1480/1480 [==============================] - 11s 7ms/step - loss: 3.5992 - accuracy: 0.2934\n",
            "Epoch 22/100\n",
            "1480/1480 [==============================] - 11s 7ms/step - loss: 3.5557 - accuracy: 0.2993\n",
            "Epoch 23/100\n",
            "1480/1480 [==============================] - 11s 7ms/step - loss: 3.5077 - accuracy: 0.3061\n",
            "Epoch 24/100\n",
            "1480/1480 [==============================] - 11s 7ms/step - loss: 3.4605 - accuracy: 0.3141\n",
            "Epoch 25/100\n",
            "1480/1480 [==============================] - 11s 7ms/step - loss: 3.4213 - accuracy: 0.3186\n",
            "Epoch 26/100\n",
            "1480/1480 [==============================] - 11s 7ms/step - loss: 3.3848 - accuracy: 0.3272\n",
            "Epoch 27/100\n",
            "1480/1480 [==============================] - 11s 7ms/step - loss: 3.3575 - accuracy: 0.3298\n",
            "Epoch 28/100\n",
            "1480/1480 [==============================] - 11s 7ms/step - loss: 3.3149 - accuracy: 0.3355\n",
            "Epoch 29/100\n",
            "1480/1480 [==============================] - 11s 7ms/step - loss: 3.2835 - accuracy: 0.3400\n",
            "Epoch 30/100\n",
            "1480/1480 [==============================] - 11s 7ms/step - loss: 3.2559 - accuracy: 0.3445\n",
            "Epoch 31/100\n",
            "1480/1480 [==============================] - 11s 7ms/step - loss: 3.2242 - accuracy: 0.3488\n",
            "Epoch 32/100\n",
            "1480/1480 [==============================] - 11s 7ms/step - loss: 3.1918 - accuracy: 0.3543\n",
            "Epoch 33/100\n",
            "1480/1480 [==============================] - 11s 7ms/step - loss: 3.1801 - accuracy: 0.3572\n",
            "Epoch 34/100\n",
            "1480/1480 [==============================] - 11s 8ms/step - loss: 3.1435 - accuracy: 0.3635\n",
            "Epoch 35/100\n",
            "1480/1480 [==============================] - 11s 8ms/step - loss: 3.1191 - accuracy: 0.3656\n",
            "Epoch 36/100\n",
            "1480/1480 [==============================] - 11s 7ms/step - loss: 3.0947 - accuracy: 0.3708\n",
            "Epoch 37/100\n",
            "1480/1480 [==============================] - 11s 7ms/step - loss: 3.0700 - accuracy: 0.3731\n",
            "Epoch 38/100\n",
            "1480/1480 [==============================] - 11s 8ms/step - loss: 3.0472 - accuracy: 0.3759\n",
            "Epoch 39/100\n",
            "1480/1480 [==============================] - 11s 8ms/step - loss: 3.0235 - accuracy: 0.3819\n",
            "Epoch 40/100\n",
            "1480/1480 [==============================] - 11s 8ms/step - loss: 3.0041 - accuracy: 0.3854\n",
            "Epoch 41/100\n",
            "1480/1480 [==============================] - 12s 8ms/step - loss: 2.9805 - accuracy: 0.3878\n",
            "Epoch 42/100\n",
            "1480/1480 [==============================] - 11s 8ms/step - loss: 2.9670 - accuracy: 0.3909\n",
            "Epoch 43/100\n",
            "1480/1480 [==============================] - 11s 8ms/step - loss: 2.9410 - accuracy: 0.3947\n",
            "Epoch 44/100\n",
            "1480/1480 [==============================] - 11s 8ms/step - loss: 2.9192 - accuracy: 0.4001\n",
            "Epoch 45/100\n",
            "1480/1480 [==============================] - 11s 8ms/step - loss: 2.9037 - accuracy: 0.4011\n",
            "Epoch 46/100\n",
            "1480/1480 [==============================] - 11s 7ms/step - loss: 2.8847 - accuracy: 0.4042\n",
            "Epoch 47/100\n",
            "1480/1480 [==============================] - 11s 8ms/step - loss: 2.8652 - accuracy: 0.4068\n",
            "Epoch 48/100\n",
            "1480/1480 [==============================] - 11s 7ms/step - loss: 2.8453 - accuracy: 0.4116\n",
            "Epoch 49/100\n",
            "1480/1480 [==============================] - 11s 7ms/step - loss: 2.8286 - accuracy: 0.4134\n",
            "Epoch 50/100\n",
            "1480/1480 [==============================] - 11s 7ms/step - loss: 2.8141 - accuracy: 0.4154\n",
            "Epoch 51/100\n",
            "1480/1480 [==============================] - 11s 7ms/step - loss: 2.8024 - accuracy: 0.4177\n",
            "Epoch 52/100\n",
            "1480/1480 [==============================] - 11s 7ms/step - loss: 2.7813 - accuracy: 0.4205\n",
            "Epoch 53/100\n",
            "1480/1480 [==============================] - 11s 7ms/step - loss: 2.7660 - accuracy: 0.4232\n",
            "Epoch 54/100\n",
            "1480/1480 [==============================] - 11s 7ms/step - loss: 2.7545 - accuracy: 0.4243\n",
            "Epoch 55/100\n",
            "1480/1480 [==============================] - 11s 7ms/step - loss: 2.7333 - accuracy: 0.4286\n",
            "Epoch 56/100\n",
            "1480/1480 [==============================] - 11s 7ms/step - loss: 2.7310 - accuracy: 0.4285\n",
            "Epoch 57/100\n",
            "1480/1480 [==============================] - 11s 7ms/step - loss: 2.7068 - accuracy: 0.4326\n",
            "Epoch 58/100\n",
            "1480/1480 [==============================] - 11s 7ms/step - loss: 2.6956 - accuracy: 0.4353\n",
            "Epoch 59/100\n",
            "1480/1480 [==============================] - 11s 7ms/step - loss: 2.6884 - accuracy: 0.4375\n",
            "Epoch 60/100\n",
            "1480/1480 [==============================] - 11s 7ms/step - loss: 2.6900 - accuracy: 0.4357\n",
            "Epoch 61/100\n",
            "1480/1480 [==============================] - 11s 8ms/step - loss: 2.6650 - accuracy: 0.4409\n",
            "Epoch 62/100\n",
            "1480/1480 [==============================] - 11s 8ms/step - loss: 2.6511 - accuracy: 0.4429\n",
            "Epoch 63/100\n",
            "1480/1480 [==============================] - 11s 7ms/step - loss: 2.6310 - accuracy: 0.4466\n",
            "Epoch 64/100\n",
            "1480/1480 [==============================] - 11s 7ms/step - loss: 2.6239 - accuracy: 0.4462\n",
            "Epoch 65/100\n",
            "1480/1480 [==============================] - 11s 7ms/step - loss: 2.6099 - accuracy: 0.4505\n",
            "Epoch 66/100\n",
            "1480/1480 [==============================] - 11s 7ms/step - loss: 2.6028 - accuracy: 0.4520\n",
            "Epoch 67/100\n",
            "1480/1480 [==============================] - 11s 8ms/step - loss: 2.5942 - accuracy: 0.4534\n",
            "Epoch 68/100\n",
            "1480/1480 [==============================] - 11s 7ms/step - loss: 2.5768 - accuracy: 0.4584\n",
            "Epoch 69/100\n",
            "1480/1480 [==============================] - 11s 7ms/step - loss: 2.5673 - accuracy: 0.4578\n",
            "Epoch 70/100\n",
            "1480/1480 [==============================] - 11s 7ms/step - loss: 2.5556 - accuracy: 0.4588\n",
            "Epoch 71/100\n",
            "1480/1480 [==============================] - 11s 7ms/step - loss: 2.5456 - accuracy: 0.4629\n",
            "Epoch 72/100\n",
            "1480/1480 [==============================] - 11s 7ms/step - loss: 2.5384 - accuracy: 0.4618\n",
            "Epoch 73/100\n",
            "1480/1480 [==============================] - 11s 7ms/step - loss: 2.5217 - accuracy: 0.4665\n",
            "Epoch 74/100\n",
            "1480/1480 [==============================] - 11s 7ms/step - loss: 2.5174 - accuracy: 0.4668\n",
            "Epoch 75/100\n",
            "1480/1480 [==============================] - 11s 7ms/step - loss: 2.5184 - accuracy: 0.4659\n",
            "Epoch 76/100\n",
            "1480/1480 [==============================] - 11s 7ms/step - loss: 2.4985 - accuracy: 0.4701\n",
            "Epoch 77/100\n",
            "1480/1480 [==============================] - 11s 7ms/step - loss: 2.4848 - accuracy: 0.4731\n",
            "Epoch 78/100\n",
            "1480/1480 [==============================] - 11s 7ms/step - loss: 2.4838 - accuracy: 0.4721\n",
            "Epoch 79/100\n",
            "1480/1480 [==============================] - 11s 7ms/step - loss: 2.4748 - accuracy: 0.4759\n",
            "Epoch 80/100\n",
            "1480/1480 [==============================] - 11s 7ms/step - loss: 2.4626 - accuracy: 0.4779\n",
            "Epoch 81/100\n",
            "1480/1480 [==============================] - 11s 7ms/step - loss: 2.4799 - accuracy: 0.4744\n",
            "Epoch 82/100\n",
            "1480/1480 [==============================] - 11s 8ms/step - loss: 2.4508 - accuracy: 0.4792\n",
            "Epoch 83/100\n",
            "1480/1480 [==============================] - 11s 7ms/step - loss: 2.4560 - accuracy: 0.4776\n",
            "Epoch 84/100\n",
            "1480/1480 [==============================] - 11s 7ms/step - loss: 2.4263 - accuracy: 0.4836\n",
            "Epoch 85/100\n",
            "1480/1480 [==============================] - 11s 7ms/step - loss: 2.4188 - accuracy: 0.4834\n",
            "Epoch 86/100\n",
            "1480/1480 [==============================] - 11s 7ms/step - loss: 2.4255 - accuracy: 0.4838\n",
            "Epoch 87/100\n",
            "1480/1480 [==============================] - 11s 7ms/step - loss: 2.4086 - accuracy: 0.4849\n",
            "Epoch 88/100\n",
            "1480/1480 [==============================] - 11s 7ms/step - loss: 2.4051 - accuracy: 0.4868\n",
            "Epoch 89/100\n",
            "1480/1480 [==============================] - 11s 7ms/step - loss: 2.3936 - accuracy: 0.4886\n",
            "Epoch 90/100\n",
            "1480/1480 [==============================] - 11s 7ms/step - loss: 2.4066 - accuracy: 0.4876\n",
            "Epoch 91/100\n",
            "1480/1480 [==============================] - 11s 7ms/step - loss: 2.3789 - accuracy: 0.4903\n",
            "Epoch 92/100\n",
            "1480/1480 [==============================] - 11s 7ms/step - loss: 2.3685 - accuracy: 0.4953\n",
            "Epoch 93/100\n",
            "1480/1480 [==============================] - 11s 7ms/step - loss: 2.3637 - accuracy: 0.4958\n",
            "Epoch 94/100\n",
            "1480/1480 [==============================] - 11s 7ms/step - loss: 2.3556 - accuracy: 0.4952\n",
            "Epoch 95/100\n",
            "1480/1480 [==============================] - 11s 7ms/step - loss: 2.3591 - accuracy: 0.4939\n",
            "Epoch 96/100\n",
            "1480/1480 [==============================] - 11s 7ms/step - loss: 2.3435 - accuracy: 0.4977\n",
            "Epoch 97/100\n",
            "1480/1480 [==============================] - 11s 7ms/step - loss: 2.3380 - accuracy: 0.5000\n",
            "Epoch 98/100\n",
            "1480/1480 [==============================] - 11s 7ms/step - loss: 2.3339 - accuracy: 0.4997\n",
            "Epoch 99/100\n",
            "1480/1480 [==============================] - 11s 7ms/step - loss: 2.3325 - accuracy: 0.5010\n",
            "Epoch 100/100\n",
            "1480/1480 [==============================] - 11s 7ms/step - loss: 2.3396 - accuracy: 0.4981\n"
          ]
        }
      ],
      "source": [
        "from tensorflow.keras.models import Sequential\n",
        "from tensorflow.keras.layers import Embedding, LSTM, Dense, Bidirectional\n",
        "\n",
        "model = Sequential()\n",
        "model.add(Embedding(total_words, 64, input_length=max_sequence_len-1))\n",
        "model.add(Bidirectional(LSTM(20)))\n",
        "model.add(Dense(total_words, activation='softmax'))\n",
        "model.compile(loss='categorical_crossentropy', optimizer='adam', metrics=['accuracy'])\n",
        "history = model.fit(input_sequences, one_hot_labels, epochs=100, verbose=1)"
      ]
    },
    {
      "cell_type": "markdown",
      "metadata": {
        "id": "MgvIz20nlQcq"
      },
      "source": [
        "### View the Training Graph"
      ]
    },
    {
      "cell_type": "code",
      "execution_count": 8,
      "metadata": {
        "id": "rOqmmarvlSLh",
        "outputId": "a7dd9bd0-f5c7-4a45-fe1b-442a684c2104",
        "colab": {
          "base_uri": "https://localhost:8080/",
          "height": 279
        }
      },
      "outputs": [
        {
          "output_type": "display_data",
          "data": {
            "text/plain": [
              "<Figure size 432x288 with 1 Axes>"
            ],
            "image/png": "[encoded data removed]"
          },
          "metadata": {
            "needs_background": "light"
          }
        }
      ],
      "source": [
        "import matplotlib.pyplot as plt\n",
        "\n",
        "def plot_graphs(history, string):\n",
        "  plt.plot(history.history[string])\n",
        "  plt.xlabel(\"Epochs\")\n",
        "  plt.ylabel(string)\n",
        "  plt.show()\n",
        "\n",
        "plot_graphs(history, 'accuracy')"
      ]
    },
    {
      "cell_type": "markdown",
      "metadata": {
        "id": "ISLZZGlQlSxh"
      },
      "source": [
        "### Generate better lyrics!\n",
        "\n",
        "This time around, we should be able to get a more interesting output with less repetition."
      ]
    },
    {
      "cell_type": "code",
      "execution_count": 9,
      "metadata": {
        "id": "P96oVMk3lU7y",
        "outputId": "dbe4e8ef-65de-4f37-da77-16250a668194",
        "colab": {
          "base_uri": "https://localhost:8080/"
        }
      },
      "outputs": [
        {
          "output_type": "stream",
          "name": "stdout",
          "text": [
            "im feeling chills that youre gone theyre leaving yonder shining apart my own and black is bittersweet all of here fear you rhythm of reality together all the door yes it wasnt for the nights i could be night of these goodbye my head yeah so quiet is low gone best to do what do is like you done i have a little wedding posses decision result man needs a number one temperature mam life st john be cool low right coming days real crying is bittersweet ya ya losin a love of right wed likes mornin nice can get along away crazy\n"
          ]
        }
      ],
      "source": [
        "seed_text = \"im feeling chills\"\n",
        "next_words = 100\n",
        "  \n",
        "for _ in range(next_words):\n",
        "\ttoken_list = tokenizer.texts_to_sequences([seed_text])[0]\n",
        "\ttoken_list = pad_sequences([token_list], maxlen=max_sequence_len-1, padding='pre')\n",
        "\tpredicted = np.argmax(model.predict(token_list), axis=-1)\n",
        "\toutput_word = \"\"\n",
        "\tfor word, index in tokenizer.word_index.items():\n",
        "\t\tif index == predicted:\n",
        "\t\t\toutput_word = word\n",
        "\t\t\tbreak\n",
        "\tseed_text += \" \" + output_word\n",
        "print(seed_text)"
      ]
    },
    {
      "cell_type": "markdown",
      "metadata": {
        "id": "upgJKV8_oRU9"
      },
      "source": [
        "### Varying the Possible Outputs\n",
        "\n",
        "In running the above, you may notice that the same seed text will generate similar outputs. This is because the code is currently always choosing the top predicted class as the next word. What if you wanted more variance in the output? \n",
        "\n",
        "Switching from `model.predict_classes` to `model.predict_proba` will get us all of the class probabilities. We can combine this with `np.random.choice` to select a given predicted output based on a probability, thereby giving a bit more randomness to our outputs."
      ]
    },
    {
      "cell_type": "code",
      "execution_count": 10,
      "metadata": {
        "id": "lZe9gaJeoGVP",
        "outputId": "7852ce42-8de0-4796-9430-5d1dfc1fb78c",
        "colab": {
          "base_uri": "https://localhost:8080/"
        }
      },
      "outputs": [
        {
          "output_type": "stream",
          "name": "stdout",
          "text": [
            "12\n"
          ]
        }
      ],
      "source": [
        "# Test the method with just the first word after the seed text\n",
        "seed_text = \"im feeling chills\"\n",
        "next_words = 100\n",
        "  \n",
        "token_list = tokenizer.texts_to_sequences([seed_text])[0]\n",
        "token_list = pad_sequences([token_list], maxlen=max_sequence_len-1, padding='pre')\n",
        "predicted_probs = model.predict(token_list)[0]\n",
        "predicted = np.random.choice([x for x in range(len(predicted_probs))], \n",
        "                             p=predicted_probs)\n",
        "# Running this cell multiple times should get you some variance in output\n",
        "print(predicted)"
      ]
    },
    {
      "cell_type": "code",
      "execution_count": 12,
      "metadata": {
        "id": "ee7WKgRGrJy1",
        "outputId": "c09437b2-db09-4dc0-fa45-15f4e255127a",
        "colab": {
          "base_uri": "https://localhost:8080/"
        }
      },
      "outputs": [
        {
          "output_type": "stream",
          "name": "stdout",
          "text": [
            "I love you think that i miss you that i think i could be your own sorrow you baby and you aint no rights and feelin note of night mind blame of the distant drums outside be note notice note beg answer harm capture hungry tread played become breath first gun all face a good tail familiar bird nine prove to cool safe cold night with you done i know its driving me crazy lonely wanted me crazy returning to her a heart yeah thing through the nights it wont do what baby done ahha youre ten ball man goin out falls\n"
          ]
        }
      ],
      "source": [
        "# Use this process for the full output generation\n",
        "seed_text = \"I love\"\n",
        "next_words = 100\n",
        "  \n",
        "for _ in range(next_words):\n",
        "  token_list = tokenizer.texts_to_sequences([seed_text])[0]\n",
        "  token_list = pad_sequences([token_list], maxlen=max_sequence_len-1, padding='pre')\n",
        "  predicted_probs = model.predict(token_list)[0]\n",
        "  predicted = np.random.choice([x for x in range(len(predicted_probs))],\n",
        "                               p=predicted_probs)\n",
        "  output_word = \"\"\n",
        "  for word, index in tokenizer.word_index.items():\n",
        "    if index == predicted:\n",
        "      output_word = word\n",
        "      break\n",
        "  seed_text += \" \" + output_word\n",
        "print(seed_text)"
      ]
    },
    {
      "cell_type": "code",
      "source": [
        ""
      ],
      "metadata": {
        "id": "Xr3scn-8BitO"
      },
      "execution_count": null,
      "outputs": []
    }
  ],
  "metadata": {
    "accelerator": "GPU",
    "colab": {
      "collapsed_sections": [],
      "name": "l10c04_nlp_optimizing_the_text_generation_model.ipynb",
      "toc_visible": true,
      "provenance": []
    },
    "kernelspec": {
      "display_name": "Python 3",
      "name": "python3"
    }
  },
  "nbformat": 4,
  "nbformat_minor": 0
}